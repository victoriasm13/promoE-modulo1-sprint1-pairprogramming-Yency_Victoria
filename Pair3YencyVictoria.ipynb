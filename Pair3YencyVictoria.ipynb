{
 "cells": [
  {
   "attachments": {},
   "cell_type": "markdown",
   "metadata": {
    "toc": true
   },
   "source": [
    "<h1>Table of Contents<span class=\"tocSkip\"></span></h1>\n",
    "<div class=\"toc\"><ul class=\"toc-item\"><li><span><a href=\"#Definir-una-lista\" data-toc-modified-id=\"Definir-una-lista-1\"><span class=\"toc-item-num\">1&nbsp;&nbsp;</span>Definir una lista</a></span><ul class=\"toc-item\"><li><span><a href=\"#Ejercicios:-definir-listas\" data-toc-modified-id=\"Ejercicios:-definir-listas-1.1\"><span class=\"toc-item-num\">1.1&nbsp;&nbsp;</span>Ejercicios: definir listas</a></span></li><li><span><a href=\"#Propiedades-de-una-lista\" data-toc-modified-id=\"Propiedades-de-una-lista-1.2\"><span class=\"toc-item-num\">1.2&nbsp;&nbsp;</span>Propiedades de una lista</a></span></li><li><span><a href=\"#Ejercicios:-propiedades-de-listas\" data-toc-modified-id=\"Ejercicios:-propiedades-de-listas-1.3\"><span class=\"toc-item-num\">1.3&nbsp;&nbsp;</span>Ejercicios: propiedades de listas</a></span></li></ul></li><li><span><a href=\"#Métodos-para-listas\" data-toc-modified-id=\"Métodos-para-listas-2\"><span class=\"toc-item-num\">2&nbsp;&nbsp;</span>Métodos para listas</a></span><ul class=\"toc-item\"><li><span><a href=\"#.copy()\" data-toc-modified-id=\".copy()-2.1\"><span class=\"toc-item-num\">2.1&nbsp;&nbsp;</span>.copy()</a></span></li><li><span><a href=\"#.clear()\" data-toc-modified-id=\".clear()-2.2\"><span class=\"toc-item-num\">2.2&nbsp;&nbsp;</span>.clear()</a></span></li><li><span><a href=\"#.count()\" data-toc-modified-id=\".count()-2.3\"><span class=\"toc-item-num\">2.3&nbsp;&nbsp;</span>.count()</a></span></li><li><span><a href=\"#.reverse()\" data-toc-modified-id=\".reverse()-2.4\"><span class=\"toc-item-num\">2.4&nbsp;&nbsp;</span>.reverse()</a></span></li><li><span><a href=\"#.sort()\" data-toc-modified-id=\".sort()-2.5\"><span class=\"toc-item-num\">2.5&nbsp;&nbsp;</span>.sort()</a></span></li><li><span><a href=\"#Ejercicios:-métodos-para-listas\" data-toc-modified-id=\"Ejercicios:-métodos-para-listas-2.6\"><span class=\"toc-item-num\">2.6&nbsp;&nbsp;</span>Ejercicios: métodos para listas</a></span></li></ul></li></ul></div>"
   ]
  },
  {
   "attachments": {},
   "cell_type": "markdown",
   "metadata": {},
   "source": [
    "# Definir una lista\n",
    "\n",
    "La listas son variables que almacenan información (son como contenedores), donde podemos tener datos de distintos tipos (*strings*, *integers*, *floats*, otras listas, etc.). Por lo tanto, una lista es una estructura de datos formada por una secuencia ordenada de elementos.\n",
    "\n",
    "Principalmente hay dos formas de definir una lista. Si recordamos cómo definiamos una variable, lo hacíamos de la siguiente forma `nombre = contenido`. Para que sea una lista, ¡sólo hay que añadir unos corchetes! Una lista puede, pero no exige, tener más que un valor. "
   ]
  },
  {
   "cell_type": "code",
   "execution_count": 17,
   "metadata": {},
   "outputs": [],
   "source": [
    "lista_de_compra = ['peras']\n",
    "notas_biologia_este_año = [7]"
   ]
  },
  {
   "attachments": {},
   "cell_type": "markdown",
   "metadata": {},
   "source": [
    "Podemos comprobar el tipo de las variables creadas anteriormente usando los métodos `type()` e `isinstance()`. "
   ]
  },
  {
   "cell_type": "code",
   "execution_count": 47,
   "metadata": {},
   "outputs": [
    {
     "name": "stdout",
     "output_type": "stream",
     "text": [
      "<class 'list'>\n"
     ]
    }
   ],
   "source": [
    "print(type(lista_de_compra))"
   ]
  },
  {
   "cell_type": "code",
   "execution_count": 48,
   "metadata": {},
   "outputs": [
    {
     "data": {
      "text/plain": [
       "True"
      ]
     },
     "execution_count": 48,
     "metadata": {},
     "output_type": "execute_result"
    }
   ],
   "source": [
    "isinstance(notas_biologia_este_año,list)"
   ]
  },
  {
   "attachments": {},
   "cell_type": "markdown",
   "metadata": {},
   "source": [
    "Supongamos que este año acaba de empezar, y por lo tanto no hemos tenido hasta ahora ningún examen de biología. Eso no significa que la lista de notas no exista, nos podemos crear una lista vacía a la que le podremos ir añadiendo elementos."
   ]
  },
  {
   "cell_type": "code",
   "execution_count": 49,
   "metadata": {},
   "outputs": [
    {
     "name": "stdout",
     "output_type": "stream",
     "text": [
      "[]\n"
     ]
    }
   ],
   "source": [
    "# definimos una lista vacía\n",
    "notas_biologia_este_año = []\n",
    "\n",
    "# veremos que la lista está vacía\n",
    "print(notas_biologia_este_año)"
   ]
  },
  {
   "attachments": {},
   "cell_type": "markdown",
   "metadata": {},
   "source": [
    "El curso va avanzado y vamos  haciendo exámenes, por lo que querremos ir guardando las notas que hemos ido sacando en la lista que hemos definido previamente. Prefiero tenerlas todas a mano en una sola variable, algo que me servirá luego a la hora de calcular promedios, o mirar si me falta alguna nota. Cojo las notas sueltas y las agrupo en una lista:"
   ]
  },
  {
   "cell_type": "code",
   "execution_count": 50,
   "metadata": {},
   "outputs": [],
   "source": [
    "# definimos tres variables con las notas de nuestros exámenes\n",
    "\n",
    "examen_bio_1 = 8\n",
    "examen_bio_2 = 7.5\n",
    "examen_bio_3 = 4"
   ]
  },
  {
   "cell_type": "code",
   "execution_count": 51,
   "metadata": {},
   "outputs": [
    {
     "name": "stdout",
     "output_type": "stream",
     "text": [
      "[8, 7.5, 4]\n"
     ]
    }
   ],
   "source": [
    "# creo la lista de nuevo, pero en este caso le paso valores, en concreto le paso los nombres de las variables que hemos definido en la celda anterior. \n",
    "\n",
    "notas_biologia_este_año = [examen_bio_1, examen_bio_2, examen_bio_3]\n",
    "\n",
    "# con este print podremos ver cuál es el contenido de nuestra lista ahora. Veremos que, los valores de la lista son lo que definimos con las variables examen_bio_1, examen_bio_2 y examen_bio_3\n",
    "print(notas_biologia_este_año)"
   ]
  },
  {
   "attachments": {},
   "cell_type": "markdown",
   "metadata": {},
   "source": [
    "Resulta que también tenemos una lista con las notas de biología del año pasado (la hemos llamado `notas_biologia_primer_año`). ¿Hay una manera de juntar las dos listas? ¡Por supuesto!"
   ]
  },
  {
   "cell_type": "code",
   "execution_count": 52,
   "metadata": {},
   "outputs": [],
   "source": [
    "# definimos la lista con las notas del año pasado\n",
    "notas_biologia_primer_año = [8.3, 6.7, 9.0, 7.5, 5.8, 6.8, 9.0, 6.8]"
   ]
  },
  {
   "cell_type": "code",
   "execution_count": 53,
   "metadata": {},
   "outputs": [
    {
     "name": "stdout",
     "output_type": "stream",
     "text": [
      "[[8.3, 6.7, 9.0, 7.5, 5.8, 6.8, 9.0, 6.8], [8, 7.5, 4]]\n"
     ]
    }
   ],
   "source": [
    "# al inicio de la lección comentamos que las listas pueden contener cualquier tipo de dato. En este caso, vamos a crear una lista que contendrá dos listas. La primera con los datos del primer año y la segunda con los datos del segundo año. \n",
    "notas_biologia = [notas_biologia_primer_año, notas_biologia_este_año]\n",
    "\n",
    "# con este print veremos que tenemos una lista grande, con dos listas más pequeñas en su interior. Recordad que las listas vienen definidas por []. \n",
    "print(notas_biologia)"
   ]
  },
  {
   "attachments": {},
   "cell_type": "markdown",
   "metadata": {},
   "source": [
    "Hasta ahora solo hemos creado listas con un solo tipo de dato, pero este tipo de estructuras de datos, nos permiten incluir distintos de tipos de datos! Veamos un ejemplo: "
   ]
  },
  {
   "cell_type": "code",
   "execution_count": 54,
   "metadata": {},
   "outputs": [
    {
     "data": {
      "text/plain": [
       "['A', 'D', 'B', 6.0, 7.1, 6.8, 8.2, 6.8]"
      ]
     },
     "execution_count": 54,
     "metadata": {},
     "output_type": "execute_result"
    }
   ],
   "source": [
    "# definimos una nueva lista que va a contener strings y números\n",
    "notas_biologia_segundo_año = ['A', 'D', 'B', 6.0, 7.1, 6.8, 8.2, 6.8]\n",
    "notas_biologia_segundo_año"
   ]
  },
  {
   "attachments": {},
   "cell_type": "markdown",
   "metadata": {},
   "source": [
    "¿Podremos juntar listas en una aún teniendo distintos tipos de datos? 🤔\n",
    "\n",
    "La respuesta es SI!!!"
   ]
  },
  {
   "cell_type": "code",
   "execution_count": 55,
   "metadata": {},
   "outputs": [
    {
     "data": {
      "text/plain": [
       "[[8.3, 6.7, 9.0, 7.5, 5.8, 6.8, 9.0, 6.8],\n",
       " ['A', 'D', 'B', 6.0, 7.1, 6.8, 8.2, 6.8],\n",
       " [8, 7.5, 4]]"
      ]
     },
     "execution_count": 55,
     "metadata": {},
     "output_type": "execute_result"
    }
   ],
   "source": [
    "# juntamos las tres listas\n",
    "notas_biologia = [notas_biologia_primer_año, notas_biologia_segundo_año, notas_biologia_este_año]\n",
    "\n",
    "# vemos su contendo\n",
    "notas_biologia"
   ]
  },
  {
   "attachments": {},
   "cell_type": "markdown",
   "metadata": {},
   "source": [
    "Si nos fijamos, ahora tenemos una lista, que contiene tres listas en su interior. Ahora bien, imaginemos que queremos tener todas las notas en una única lista, y no como lo teníamos hasta ahora. La manera de juntar las listas es usando el operador `+` \n",
    "\n",
    "> El resultado será una lista de 19 números, en vez de una lista de tres listas:"
   ]
  },
  {
   "cell_type": "code",
   "execution_count": 56,
   "metadata": {},
   "outputs": [
    {
     "name": "stdout",
     "output_type": "stream",
     "text": [
      "[8.3, 6.7, 9.0, 7.5, 5.8, 6.8, 9.0, 6.8, 'A', 'D', 'B', 6.0, 7.1, 6.8, 8.2, 6.8, 8, 7.5, 4]\n"
     ]
    }
   ],
   "source": [
    "# juntamos las tres listas usando el operador + \n",
    "print(notas_biologia_primer_año + notas_biologia_segundo_año + notas_biologia_este_año)"
   ]
  },
  {
   "attachments": {},
   "cell_type": "markdown",
   "metadata": {},
   "source": [
    "Como hemos ido viendo, la lista es un contendor que nos permite almacenar información. Imaginemos ahora que tenemos una variable que es de tipo *string*  y la queremos convertir en lista. \n",
    "\n",
    "¿Cómo lo podríamos hacer? Usando el método `list()` \n"
   ]
  },
  {
   "cell_type": "code",
   "execution_count": 57,
   "metadata": {},
   "outputs": [
    {
     "data": {
      "text/plain": [
       "['L', 'o', 'v', 'e', 'l', 'a', 'c', 'e']"
      ]
     },
     "execution_count": 57,
     "metadata": {},
     "output_type": "execute_result"
    }
   ],
   "source": [
    "# definimos una variable de tipo string\n",
    "apellido = 'Lovelace'\n",
    "\n",
    "# la convertimos a lista\n",
    "list(apellido)"
   ]
  },
  {
   "attachments": {},
   "cell_type": "markdown",
   "metadata": {},
   "source": [
    "📌 ¡Pero ojo! **No** nos ha creado una lista con un único elemento con el *string*. Nos ha creado una lista donde tenemos 8 elementos, donde cada uno de ellos es una letra de nuestro *string*"
   ]
  },
  {
   "attachments": {},
   "cell_type": "markdown",
   "metadata": {},
   "source": [
    "Pero recordemos, si volvemos a mostrar apellido, ¿qué pasará?"
   ]
  },
  {
   "cell_type": "code",
   "execution_count": 58,
   "metadata": {},
   "outputs": [
    {
     "data": {
      "text/plain": [
       "'Lovelace'"
      ]
     },
     "execution_count": 58,
     "metadata": {},
     "output_type": "execute_result"
    }
   ],
   "source": [
    "apellido"
   ]
  },
  {
   "attachments": {},
   "cell_type": "markdown",
   "metadata": {},
   "source": [
    "Sigue siendo un *string*, recordad que para que se nos guarde como lista tendremos que crearnos otra variable o sobreescribir la que ya tenemos. "
   ]
  },
  {
   "cell_type": "code",
   "execution_count": 59,
   "metadata": {},
   "outputs": [],
   "source": [
    "apellido2 = list(apellido)"
   ]
  },
  {
   "cell_type": "code",
   "execution_count": 60,
   "metadata": {},
   "outputs": [
    {
     "data": {
      "text/plain": [
       "['L', 'o', 'v', 'e', 'l', 'a', 'c', 'e']"
      ]
     },
     "execution_count": 60,
     "metadata": {},
     "output_type": "execute_result"
    }
   ],
   "source": [
    "apellido2"
   ]
  },
  {
   "attachments": {},
   "cell_type": "markdown",
   "metadata": {},
   "source": [
    "¿Qué pasaría si lo hacemos con una variable de tipo numérica? Veámoslo con un ejemplo: "
   ]
  },
  {
   "cell_type": "code",
   "execution_count": 61,
   "metadata": {},
   "outputs": [],
   "source": [
    "# definimos la variable numérica\n",
    "numero = 22"
   ]
  },
  {
   "cell_type": "code",
   "execution_count": 62,
   "metadata": {},
   "outputs": [
    {
     "ename": "TypeError",
     "evalue": "'int' object is not iterable",
     "output_type": "error",
     "traceback": [
      "\u001b[0;31m---------------------------------------------------------------------------\u001b[0m",
      "\u001b[0;31mTypeError\u001b[0m                                 Traceback (most recent call last)",
      "\u001b[0;32m/tmp/ipykernel_20657/1914473122.py\u001b[0m in \u001b[0;36m<module>\u001b[0;34m\u001b[0m\n\u001b[0;32m----> 1\u001b[0;31m \u001b[0mlist\u001b[0m\u001b[0;34m(\u001b[0m\u001b[0mnumero\u001b[0m\u001b[0;34m)\u001b[0m\u001b[0;34m\u001b[0m\u001b[0;34m\u001b[0m\u001b[0m\n\u001b[0m",
      "\u001b[0;31mTypeError\u001b[0m: 'int' object is not iterable"
     ]
    }
   ],
   "source": [
    "list(numero)"
   ]
  },
  {
   "attachments": {},
   "cell_type": "markdown",
   "metadata": {},
   "source": [
    "Vaya... nos da un error, y es que no todos los tipos de datos son convertibles en listas. Este es un claro ejemplo de ello. Para ello necesitaremos otras herramientas de Python que iremos aprendiendo en las siguientes lecciones. "
   ]
  },
  {
   "attachments": {},
   "cell_type": "markdown",
   "metadata": {
    "id": "_Qv3Rnw8OWAv"
   },
   "source": [
    "**Repaso**:\n",
    "- Definir listas con `[]`.\n",
    "\n",
    "\n",
    "- Convertir algunos tipos de datos a una lista con `list(iterable)`.\n",
    "\n",
    "\n",
    "- Juntar listas con `+`.\n",
    "\n",
    "\n",
    "- Las listas pueden ser creadas vacías, o tener contenido de un sólo tipo, o de múltiples tipos.\n",
    "\n",
    "\n",
    "- Una lista también puede estar compuesta por otras listas.\n"
   ]
  },
  {
   "attachments": {},
   "cell_type": "markdown",
   "metadata": {
    "id": "5PcBreuKcX1-"
   },
   "source": [
    "\n",
    "\n",
    "---\n",
    "\n",
    "\n",
    "## Ejercicios: definir listas\n",
    "\n",
    "- Definir listas\n",
    "\n",
    "  1. Haz una lista `colores` de los primeros 6 colores que te vengan a la mente.\n",
    "\n",
    "  2. Haz una lista `buses` de las líneas de autobuses que pasan por tu casa.\n",
    "\n",
    "  3. Apunta la previsión de temperaturas máximas para todos los días de esta semana en `temperaturas`.\n",
    "\n",
    "\n",
    "\n",
    "- Convertir a listas\n",
    "\n",
    "  4. Convierte tu(s) nombre(s) a una lista `nombres` de caracteres.\n",
    "  \n",
    "  5. Convierte tu(s) apellido(s) a una lista `apellidos` de caracteres.\n",
    "\n",
    "\n",
    "---\n",
    "\n"
   ]
  },
  {
   "cell_type": "code",
   "execution_count": 3,
   "metadata": {
    "id": "Z5I4yJpqcX2F"
   },
   "outputs": [
    {
     "data": {
      "text/plain": [
       "['saldaña rojas']"
      ]
     },
     "execution_count": 3,
     "metadata": {},
     "output_type": "execute_result"
    }
   ],
   "source": [
    "colores = [\"lila , amarillo , verde , azul , blanco , violeta\"]\n",
    "buses = [160 , 168 , 260 , 165 ]\n",
    "temperaturas = [30 , 28 , 34 , 31, 35 , 27 , 32 ]\n",
    "nombres = ['yency del pilar']\n",
    "apellidos = [\"saldaña rojas\"]\n",
    "list(nombres)\n",
    "list(apellidos)\n",
    "\n",
    "\n",
    "\n"
   ]
  },
  {
   "attachments": {},
   "cell_type": "markdown",
   "metadata": {
    "id": "aCLnA8lRcX2F"
   },
   "source": [
    "\n",
    "\n",
    "---\n"
   ]
  },
  {
   "attachments": {},
   "cell_type": "markdown",
   "metadata": {},
   "source": [
    "## Propiedades de una lista\n",
    "Una vez definida, no siempre nos interesan los contenidos de la lista en sí, si no sus propiedades. ¿Cuántos exámenes hay en un año? Y ¿cuántas notas tengo apuntadas en mi lista? Para comprobar la longitud , es decir el número de elementos que tenemos en la lista, vamos a usar la función `len()`. \n",
    "\n",
    "Entonces, ¿cuántas notas tengo apuntadas?"
   ]
  },
  {
   "cell_type": "code",
   "execution_count": 63,
   "metadata": {},
   "outputs": [
    {
     "data": {
      "text/plain": [
       "[8.3, 6.7, 9.0, 7.5, 5.8, 6.8, 9.0, 6.8]"
      ]
     },
     "execution_count": 63,
     "metadata": {},
     "output_type": "execute_result"
    }
   ],
   "source": [
    "# recordemos la variable notas_biologia_primer_año\n",
    "\n",
    "notas_biologia_primer_año"
   ]
  },
  {
   "cell_type": "code",
   "execution_count": 64,
   "metadata": {},
   "outputs": [
    {
     "name": "stdout",
     "output_type": "stream",
     "text": [
      "8\n"
     ]
    }
   ],
   "source": [
    "# veamos cuántas notas tenemos en la lista?\n",
    "cantidad_de_notas = len(notas_biologia_primer_año)\n",
    "print(cantidad_de_notas)"
   ]
  },
  {
   "attachments": {},
   "cell_type": "markdown",
   "metadata": {},
   "source": [
    "¿En el primer año era buena estudiante? Pues ni me acuerdo, pero puedo sacar la nota mínima que obtuve con la función `min()`. Del mismo modo, ¿qué crees que hará la función `max()`?"
   ]
  },
  {
   "cell_type": "code",
   "execution_count": 65,
   "metadata": {},
   "outputs": [
    {
     "name": "stdout",
     "output_type": "stream",
     "text": [
      "Mi nota mínima fue: 5.8\n",
      "Mi nota máxima fue: 9.0\n"
     ]
    }
   ],
   "source": [
    "minima = min(notas_biologia_primer_año)\n",
    "maxima = max(notas_biologia_primer_año)\n",
    "print(\"Mi nota mínima fue:\", minima)\n",
    "print(\"Mi nota máxima fue:\", maxima)"
   ]
  },
  {
   "attachments": {},
   "cell_type": "markdown",
   "metadata": {},
   "source": [
    "¿Recordais cuando en la lección anterior hablabamos de que algunos métodos no son universales y que no nos valían para todos los tipos de datos? Nos pasaba cuando intentabamos usar el método `.upper()` que es de *strings* en variables de tipo numérico (en este caso nos devolvería error). \n",
    "\n",
    "Lo mismo nos va a pasar con las listas y los elementos contenidos en ellas. Veamos un ejemplo: "
   ]
  },
  {
   "cell_type": "code",
   "execution_count": 67,
   "metadata": {},
   "outputs": [
    {
     "data": {
      "text/plain": [
       "['A', 'D', 'B', 6.0, 7.1, 6.8, 8.2, 6.8]"
      ]
     },
     "execution_count": 67,
     "metadata": {},
     "output_type": "execute_result"
    }
   ],
   "source": [
    "# recordemos como era la lista notas_biologia_segundo_año\n",
    "notas_biologia_segundo_año"
   ]
  },
  {
   "attachments": {},
   "cell_type": "markdown",
   "metadata": {},
   "source": [
    "¿Creeis que podremos hacer la operación de `.max()` sobre un *string* ? Provémoslo"
   ]
  },
  {
   "cell_type": "code",
   "execution_count": 68,
   "metadata": {},
   "outputs": [
    {
     "ename": "TypeError",
     "evalue": "'<' not supported between instances of 'float' and 'str'",
     "output_type": "error",
     "traceback": [
      "\u001b[0;31m---------------------------------------------------------------------------\u001b[0m",
      "\u001b[0;31mTypeError\u001b[0m                                 Traceback (most recent call last)",
      "\u001b[0;32m/tmp/ipykernel_20657/83594243.py\u001b[0m in \u001b[0;36m<module>\u001b[0;34m\u001b[0m\n\u001b[0;32m----> 1\u001b[0;31m \u001b[0mmin\u001b[0m\u001b[0;34m(\u001b[0m\u001b[0mnotas_biologia_segundo_año\u001b[0m\u001b[0;34m)\u001b[0m\u001b[0;34m\u001b[0m\u001b[0;34m\u001b[0m\u001b[0m\n\u001b[0m",
      "\u001b[0;31mTypeError\u001b[0m: '<' not supported between instances of 'float' and 'str'"
     ]
    }
   ],
   "source": [
    "min(notas_biologia_segundo_año)\n"
   ]
  },
  {
   "attachments": {},
   "cell_type": "markdown",
   "metadata": {},
   "source": [
    "Ups... Nos da error!! Veamos que nos está diciendo el error, `TypeError: '<' not supported between instances of 'float' and 'str'`, es decir, nos esta diciendo que no podemos usar el operador `<` entre *integers*  y *floats*. \n",
    "\n",
    "Por lo tanto, si tenemos una lista con elementos de distintos tipos no podremos usar este tipo de métodos. \n",
    "\n",
    "Pero...🤔, ¿creeis que podremos usar este tipo de método a una lista solo de *strings*?"
   ]
  },
  {
   "cell_type": "code",
   "execution_count": 69,
   "metadata": {},
   "outputs": [],
   "source": [
    "mi_lista = [\"Hola\", \"Adalaber\"]"
   ]
  },
  {
   "cell_type": "code",
   "execution_count": 70,
   "metadata": {},
   "outputs": [
    {
     "data": {
      "text/plain": [
       "'Adalaber'"
      ]
     },
     "execution_count": 70,
     "metadata": {},
     "output_type": "execute_result"
    }
   ],
   "source": [
    "min(mi_lista)"
   ]
  },
  {
   "cell_type": "code",
   "execution_count": 71,
   "metadata": {},
   "outputs": [
    {
     "data": {
      "text/plain": [
       "'Hola'"
      ]
     },
     "execution_count": 71,
     "metadata": {},
     "output_type": "execute_result"
    }
   ],
   "source": [
    "max(mi_lista)"
   ]
  },
  {
   "attachments": {},
   "cell_type": "markdown",
   "metadata": {},
   "source": [
    "Fijaos que lo entiende!!!! ¿Qué está pasando? Basicamente, nos lo \"ordenará\" alfabeticamente. Es por esto, que nuestro `min` es \"Adalaber\" ya que empieza por A y está antes en el alfabeto que H de \"Hola\""
   ]
  },
  {
   "attachments": {},
   "cell_type": "markdown",
   "metadata": {},
   "source": [
    "Suponemos que en mi instituto se necesita una 6.0 para aprobar un examen. ¿He estado en el borde una vez? Con la palabra `in` puedo verificar si un valor específico existe en una lista o no. El resultado es un `True` si existe una o múltiples veces, y un `False` si ese valor no esta en la lista."
   ]
  },
  {
   "cell_type": "code",
   "execution_count": 72,
   "metadata": {},
   "outputs": [
    {
     "data": {
      "text/plain": [
       "[8.3, 6.7, 9.0, 7.5, 5.8, 6.8, 9.0, 6.8]"
      ]
     },
     "execution_count": 72,
     "metadata": {},
     "output_type": "execute_result"
    }
   ],
   "source": [
    "# recordemos la lista notas_biologia_primer_año\n",
    "\n",
    "notas_biologia_primer_año"
   ]
  },
  {
   "cell_type": "code",
   "execution_count": 73,
   "metadata": {},
   "outputs": [
    {
     "data": {
      "text/plain": [
       "False"
      ]
     },
     "execution_count": 73,
     "metadata": {},
     "output_type": "execute_result"
    }
   ],
   "source": [
    "# usamos el operador \"in\" para preguntarle a Python si el valor 6.0 esta contenido en la lista de notas_biologia_primer_año\n",
    "6.0 in notas_biologia_primer_año\n"
   ]
  },
  {
   "attachments": {},
   "cell_type": "markdown",
   "metadata": {},
   "source": [
    "En este caso nos devuelve False, es decir, en nuestra lista de notas no tenemos la nota `6.0`. ¿Y si queremos saber si existe la nota `8.3`?"
   ]
  },
  {
   "cell_type": "code",
   "execution_count": 74,
   "metadata": {},
   "outputs": [
    {
     "data": {
      "text/plain": [
       "True"
      ]
     },
     "execution_count": 74,
     "metadata": {},
     "output_type": "execute_result"
    }
   ],
   "source": [
    "# usamos el operador in para saber si la nota 8.3 está en nuestra lista de notas. En este caso nos devuelve True por que SI esta ese valor en nuestra lista\n",
    "8.3 in notas_biologia_primer_año"
   ]
  },
  {
   "cell_type": "code",
   "execution_count": 75,
   "metadata": {},
   "outputs": [
    {
     "data": {
      "text/plain": [
       "[[8.3, 6.7, 9.0, 7.5, 5.8, 6.8, 9.0, 6.8],\n",
       " ['A', 'D', 'B', 6.0, 7.1, 6.8, 8.2, 6.8],\n",
       " [8, 7.5, 4]]"
      ]
     },
     "execution_count": 75,
     "metadata": {},
     "output_type": "execute_result"
    }
   ],
   "source": [
    "# juntamos las tres listas, obteniendo una lista de tres listas.\n",
    "\n",
    "notas_biologia = [notas_biologia_primer_año, notas_biologia_segundo_año, notas_biologia_este_año]\n",
    "notas_biologia"
   ]
  },
  {
   "cell_type": "code",
   "execution_count": 76,
   "metadata": {},
   "outputs": [
    {
     "data": {
      "text/plain": [
       "True"
      ]
     },
     "execution_count": 76,
     "metadata": {},
     "output_type": "execute_result"
    }
   ],
   "source": [
    "# está el número 6 en la lista notas_biologia_segundo_año?\n",
    "6 in notas_biologia_segundo_año\n"
   ]
  },
  {
   "cell_type": "code",
   "execution_count": 77,
   "metadata": {},
   "outputs": [
    {
     "data": {
      "text/plain": [
       "False"
      ]
     },
     "execution_count": 77,
     "metadata": {},
     "output_type": "execute_result"
    }
   ],
   "source": [
    "# esta el número 6 en la lista de listas?\n",
    "\n",
    "6.0 in notas_biologia\n",
    "\n"
   ]
  },
  {
   "attachments": {},
   "cell_type": "markdown",
   "metadata": {},
   "source": [
    "La palabra `in` compara *elementos*. \n",
    "\n",
    "- ¿Cuáles son los elementos de la lista notas_biologia_segundo_año? **Números**\n",
    "\n",
    "- ¿Cuáles son los elementos de la lista notas_biolofgia? **Listas**\n",
    "\n",
    "\n",
    "\n",
    "Por lo tanto,  comprobará si el `6` está en la lista de números, busca un número entre una serie de números. Sin embargo, en la segunda lista esta comparando un número (6) con listas, por lo tanto, nos devuelve `False`. Ninguno de los elementos es 6 ya que son listas."
   ]
  },
  {
   "attachments": {},
   "cell_type": "markdown",
   "metadata": {},
   "source": [
    "En la misma manera que `in` también existe `not in`, que se usa exactamente igual. Os animamos a que probéis para ir familiarizandoos con este tipo de sintaxis. "
   ]
  },
  {
   "attachments": {},
   "cell_type": "markdown",
   "metadata": {
    "id": "_Qv3Rnw8OWAv"
   },
   "source": [
    "**Repaso**:\n",
    "\n",
    "- La función `len()` nos devuelve el número de elementos de nuestra lista.\n",
    "\n",
    "- Si la lista sólo tiene un tipo de dato, las funciones `min()` y `max()` devuelve el valor mínimo y máximo. **NOTA**   En el caso de que tengamos una lista de *strings* tendrá el cuenta el orden alfabético. \n",
    "\n",
    "- Con `in` y `not in` podemos comprobar si un valor definido está contenido en la lista o no.\n"
   ]
  },
  {
   "attachments": {},
   "cell_type": "markdown",
   "metadata": {
    "id": "5PcBreuKcX1-"
   },
   "source": [
    "\n",
    "\n",
    "---\n",
    "\n",
    "\n",
    "## Ejercicios: propiedades de listas\n",
    "\n",
    "- Usar `len()`, `min()`, y `max()`\n",
    "\n",
    "  6. ¿Cuántos búses pasan por tu casa?\n",
    "\n",
    "  7. ¿Cuántos caracteres hay en tu apellido(s) (inluyendo los espacios)?\n",
    "\n",
    "  8. ¿Cuáles son las temperaturas máximas (`t_max`) y mínimas (`t_min`) para esta semana?\n",
    "\n",
    "- Usar `in`, `not in`\n",
    "\n",
    "  9. Hay una 'e' en tu nombre?\n",
    "\n",
    "  10. Tienes el color 'rosa' en la lista de colores?\n",
    "  \n",
    "  11. ¿Tiene una 'x' tu nombre? (Usa `not in`)\n",
    "\n",
    "\n",
    "---\n",
    "\n"
   ]
  },
  {
   "cell_type": "code",
   "execution_count": 44,
   "metadata": {
    "id": "Z5I4yJpqcX2F"
   },
   "outputs": [
    {
     "name": "stdout",
     "output_type": "stream",
     "text": [
      "temperatura_maxima_de_la_semana: 35\n",
      "temperatura_minima_de_la_semana: 27\n",
      "27\n",
      "15\n"
     ]
    },
    {
     "data": {
      "text/plain": [
       "True"
      ]
     },
     "execution_count": 44,
     "metadata": {},
     "output_type": "execute_result"
    }
   ],
   "source": [
    "len (buses)\n",
    "list [len(nombres)]\n",
    "max (temperaturas)\n",
    "t_max = max (temperaturas)\n",
    "print (\"temperatura_maxima_de_la_semana:\" , t_max )\n",
    "print (\"temperatura_minima_de_la_semana:\" , t_min)\n",
    "t_min = min (temperaturas)\n",
    "print (t_min)\n",
    "print (len(nombres))\n",
    "\"e\" in nombres\n",
    "\"rosa\" in  colores\n",
    "\"x\" not in nombres\n"
   ]
  },
  {
   "attachments": {},
   "cell_type": "markdown",
   "metadata": {
    "id": "aCLnA8lRcX2F"
   },
   "source": [
    "\n",
    "\n",
    "---\n"
   ]
  },
  {
   "attachments": {},
   "cell_type": "markdown",
   "metadata": {},
   "source": [
    "# Métodos para listas\n",
    "Listas son mutables, es decir se le pueden añadir o quitar elementos."
   ]
  },
  {
   "cell_type": "code",
   "execution_count": 78,
   "metadata": {},
   "outputs": [
    {
     "name": "stdout",
     "output_type": "stream",
     "text": [
      "[8.3, 6.7, 9.0, 7.5, 5.8, 6.8, 9.0, 6.8, 'A', 'D', 'B', 6.0, 7.1, 6.8, 8.2, 6.8, 8, 7.5, 4]\n"
     ]
    }
   ],
   "source": [
    "# definimos la lista de notas\n",
    "notas = notas_biologia_primer_año + notas_biologia_segundo_año + notas_biologia_este_año\n",
    "print(notas)"
   ]
  },
  {
   "attachments": {},
   "cell_type": "markdown",
   "metadata": {},
   "source": [
    "## .copy()"
   ]
  },
  {
   "cell_type": "code",
   "execution_count": 79,
   "metadata": {},
   "outputs": [
    {
     "name": "stdout",
     "output_type": "stream",
     "text": [
      "[8.3, 6.7, 9.0, 7.5, 5.8, 6.8, 9.0, 6.8, 'A', 'D', 'B', 6.0, 7.1, 6.8, 8.2, 6.8, 8, 7.5, 4]\n"
     ]
    }
   ],
   "source": [
    "# nos podemos hacer una copia de la lista de notas usando el método .copy()\n",
    "\n",
    "bio = notas.copy()\n",
    "print(bio)"
   ]
  },
  {
   "attachments": {},
   "cell_type": "markdown",
   "metadata": {},
   "source": [
    "Si nos fijamos tenemos una copia exacta de la lista `notas`, pero en este caso la llamamos `bio`"
   ]
  },
  {
   "attachments": {},
   "cell_type": "markdown",
   "metadata": {},
   "source": [
    "## .clear()"
   ]
  },
  {
   "cell_type": "code",
   "execution_count": 80,
   "metadata": {},
   "outputs": [],
   "source": [
    "# también podemos vacíar una lista usando el método clear()\n",
    "\n",
    "notas.clear()\n"
   ]
  },
  {
   "cell_type": "code",
   "execution_count": 81,
   "metadata": {},
   "outputs": [
    {
     "name": "stdout",
     "output_type": "stream",
     "text": [
      "[]\n"
     ]
    }
   ],
   "source": [
    "print(notas)"
   ]
  },
  {
   "attachments": {},
   "cell_type": "markdown",
   "metadata": {},
   "source": [
    "Si nos fijamos, en el caso del método `clear()` no hace falta que hagamos una reasignación de la lista. Python directamente nos va a borrar todo el contenido de la lista. Es decir, a partir de este momento la lista `notas` esta vacía. "
   ]
  },
  {
   "attachments": {},
   "cell_type": "markdown",
   "metadata": {},
   "source": [
    "## .count()"
   ]
  },
  {
   "attachments": {},
   "cell_type": "markdown",
   "metadata": {},
   "source": [
    "Otro método muy útil en listas es el método `count()`. Este método nos devuelve el número de elementos que hay de nuestra lista del elemento especificado. "
   ]
  },
  {
   "cell_type": "code",
   "execution_count": 82,
   "metadata": {},
   "outputs": [
    {
     "name": "stdout",
     "output_type": "stream",
     "text": [
      "[8.3, 6.7, 9.0, 7.5, 5.8, 6.8, 9.0, 6.8, 'A', 'D', 'B', 6.0, 7.1, 6.8, 8.2, 6.8, 8, 7.5, 4]\n"
     ]
    }
   ],
   "source": [
    "# volvemos a definir la lista de notas\n",
    "notas = notas_biologia_primer_año + notas_biologia_segundo_año + notas_biologia_este_año\n",
    "print(notas)"
   ]
  },
  {
   "cell_type": "code",
   "execution_count": 83,
   "metadata": {},
   "outputs": [
    {
     "name": "stdout",
     "output_type": "stream",
     "text": [
      "4\n"
     ]
    }
   ],
   "source": [
    "# ¿Cuántas veces aparece la nota 6.8 en nuestra lista de notas? \n",
    "\n",
    "print(notas.count(6.8))"
   ]
  },
  {
   "attachments": {},
   "cell_type": "markdown",
   "metadata": {},
   "source": [
    "Lo que nos esta diciendo este `output` es que en nuestra lista hay 4 elementos con el valor 6.8. "
   ]
  },
  {
   "attachments": {},
   "cell_type": "markdown",
   "metadata": {},
   "source": [
    "## .reverse()"
   ]
  },
  {
   "attachments": {},
   "cell_type": "markdown",
   "metadata": {},
   "source": [
    "Las notas que saqué ese año me las apunté sobre la marcha, y por lo tanto, la primera que saqué está en la primera posición de la lista. Si ahora me interesaría verlas de más reciente a más antigua, ¿cómo lo hago? Pues con el método `.reverse()`. "
   ]
  },
  {
   "cell_type": "code",
   "execution_count": 84,
   "metadata": {},
   "outputs": [
    {
     "data": {
      "text/plain": [
       "[8.3, 6.7, 9.0, 7.5, 5.8, 6.8, 9.0, 6.8]"
      ]
     },
     "execution_count": 84,
     "metadata": {},
     "output_type": "execute_result"
    }
   ],
   "source": [
    "# hagamonos una copia de la lista notas_biologia_año\n",
    "biologia = notas_biologia_primer_año.copy()\n",
    "biologia"
   ]
  },
  {
   "cell_type": "code",
   "execution_count": 85,
   "metadata": {},
   "outputs": [],
   "source": [
    "# apliquemos el método reverse, que no nos devolverá nada\n",
    "biologia.reverse()"
   ]
  },
  {
   "cell_type": "code",
   "execution_count": 86,
   "metadata": {},
   "outputs": [
    {
     "data": {
      "text/plain": [
       "[6.8, 9.0, 6.8, 5.8, 7.5, 9.0, 6.7, 8.3]"
      ]
     },
     "execution_count": 86,
     "metadata": {},
     "output_type": "execute_result"
    }
   ],
   "source": [
    "# veamos que tenemos ahora en biologia\n",
    "biologia"
   ]
  },
  {
   "attachments": {},
   "cell_type": "markdown",
   "metadata": {},
   "source": [
    "Y voilá! tenemos nuestra lista dada la vuelta. "
   ]
  },
  {
   "attachments": {},
   "cell_type": "markdown",
   "metadata": {},
   "source": [
    "## .sort()"
   ]
  },
  {
   "attachments": {},
   "cell_type": "markdown",
   "metadata": {},
   "source": [
    "Si en vez de la antigüedad me interesa la lista ordenada, de mayor a menor, ¿también habrá un método que me lo haga? ¡Claro que sí! Es el método `.sort()` que nos ordenará los elementos en orden ascendente por defecto. "
   ]
  },
  {
   "cell_type": "code",
   "execution_count": 87,
   "metadata": {},
   "outputs": [
    {
     "data": {
      "text/plain": [
       "[8.3, 6.7, 9.0, 7.5, 5.8, 6.8, 9.0, 6.8]"
      ]
     },
     "execution_count": 87,
     "metadata": {},
     "output_type": "execute_result"
    }
   ],
   "source": [
    "# recordamos como era notas_biologia_primer_año\n",
    "notas_biologia_primer_año"
   ]
  },
  {
   "cell_type": "code",
   "execution_count": 88,
   "metadata": {},
   "outputs": [
    {
     "data": {
      "text/plain": [
       "[8.3, 6.7, 9.0, 7.5, 5.8, 6.8, 9.0, 6.8]"
      ]
     },
     "execution_count": 88,
     "metadata": {},
     "output_type": "execute_result"
    }
   ],
   "source": [
    "# nos hacemos una copia de la lista anterior usando el método copy()\n",
    "ordenada = notas_biologia_primer_año.copy()\n",
    "ordenada"
   ]
  },
  {
   "cell_type": "code",
   "execution_count": 89,
   "metadata": {},
   "outputs": [
    {
     "data": {
      "text/plain": [
       "[5.8, 6.7, 6.8, 6.8, 7.5, 8.3, 9.0, 9.0]"
      ]
     },
     "execution_count": 89,
     "metadata": {},
     "output_type": "execute_result"
    }
   ],
   "source": [
    "ordenada.sort()\n",
    "ordenada"
   ]
  },
  {
   "attachments": {},
   "cell_type": "markdown",
   "metadata": {},
   "source": [
    "Si nos fijamos se nos ha ordenado la lista de menor a mayor, en orden ascendente. ¿Pero que pasaría si quisieramos hacerlo en orden descendente? Este método tiene un parámetro que se llama `reverse`. Veamos como funciona: "
   ]
  },
  {
   "cell_type": "code",
   "execution_count": 90,
   "metadata": {},
   "outputs": [
    {
     "data": {
      "text/plain": [
       "[8.3, 6.7, 9.0, 7.5, 5.8, 6.8, 9.0, 6.8]"
      ]
     },
     "execution_count": 90,
     "metadata": {},
     "output_type": "execute_result"
    }
   ],
   "source": [
    "# nos hacemos una copia de nuevo de la lista notas_biologia_primer_año\n",
    "ordenada2 = notas_biologia_primer_año.copy()\n",
    "ordenada2"
   ]
  },
  {
   "cell_type": "code",
   "execution_count": 91,
   "metadata": {},
   "outputs": [
    {
     "data": {
      "text/plain": [
       "[9.0, 9.0, 8.3, 7.5, 6.8, 6.8, 6.7, 5.8]"
      ]
     },
     "execution_count": 91,
     "metadata": {},
     "output_type": "execute_result"
    }
   ],
   "source": [
    "ordenada2.sort(reverse=True)\n",
    "ordenada2"
   ]
  },
  {
   "attachments": {},
   "cell_type": "markdown",
   "metadata": {},
   "source": [
    "Lo que ha pasado ahora después de pasarle el parámetro `reverse()` es que se nos ordeno de mayor a menor. "
   ]
  },
  {
   "attachments": {},
   "cell_type": "markdown",
   "metadata": {
    "id": "_Qv3Rnw8OWAv"
   },
   "source": [
    "**Repaso**:\n",
    "- Listas son mutables, es decir, podemos eliminar o añadir elementos. \n",
    "\n",
    "- Para guardar el original, `.copy()` nos hace una copia del contenido en una nueva variable.\n",
    "\n",
    "- Con `.clear()` vaciamos nuestra lista de todos los elementos contenidos.\n",
    "\n",
    "- Con `.count(x)` puedes contar cuántas veces está el contenido `x` en la lista.\n",
    "\n",
    "- Con `.reverse()` y `.sort()` cambias el orden de la lista.\n"
   ]
  },
  {
   "attachments": {},
   "cell_type": "markdown",
   "metadata": {
    "id": "5PcBreuKcX1-"
   },
   "source": [
    "\n",
    "\n",
    "---\n",
    "\n",
    "\n",
    "## Ejercicios: métodos para listas\n",
    "\n",
    "- Hacer copias y borrar sus contenidos\n",
    "\n",
    "  12. Copia el contenido de `temperaturas` a `temperaturas2`, y `temperaturas3`.\n",
    "\n",
    "  13. Vacía el contenido de la variable `temperaturas2`\n",
    "\n",
    "  14. Imprime el contenido de `temperaturas` y `temperaturas2`.\n",
    "\n",
    "  15. Copia el contenido de `nombres` a `nombres2`.\n",
    "\n",
    "  16. Copia el contenido de `apellidos` a `apellidos2`.\n",
    "\n",
    "- Cambiar el orden de los contenidos\n",
    "\n",
    "  17. Ordena la variable `temperaturas3` orden anticronológico ascendente.\n",
    "\n",
    "  18. Ordena los caracteres de tu nombre y tu apellido en las listas `nombres2` y `apellidos2`. Imprime el resultado y investiga: ¿qué orden ha cogido? ¿Cómo trata las mayúsculas?\n",
    "\n",
    "- Contar duplicados\n",
    "\n",
    "  19. ¿Cuántas 'a' tiene tu nombre? ¿Y cuántas 'o'?\n",
    "\n",
    "  20. Verifica si los resultados de ejercicio 19 son iguales para la lista `nombres2`.\n",
    "\n",
    "  21. ¿Cuántas veces esta semana llega la temperatura a la `t_max`? ¿Y cuántas a la `t_min`?\n",
    "\n",
    "- Bonus\n",
    "\n",
    "  22. Imprime esta frase en pantalla: 'La temperatura máxima esta semana será 14 ºC, que ocurrirá en 1 días(s). El día más friolero tendrá una temperatura máxima de 10 ºC, que ocurrirá en 2 día(s).'\n",
    "---\n",
    "\n"
   ]
  },
  {
   "cell_type": "code",
   "execution_count": 4,
   "metadata": {
    "id": "Z5I4yJpqcX2F"
   },
   "outputs": [
    {
     "name": "stdout",
     "output_type": "stream",
     "text": [
      "[30, 28, 34, 31, 35, 27, 32]\n"
     ]
    }
   ],
   "source": [
    "temperaturas2 = temperaturas .copy()\n",
    "temperaturas2\n",
    "temperaturas3 = temperaturas .copy()\n",
    "temperaturas3\n",
    "temperaturas2 .clear()\n",
    "temperaturas2\n",
    "print (temperaturas + temperaturas2)\n",
    "nombres2 = nombres .copy()\n",
    "apellidos2 = apellidos .copy()\n",
    "temperaturas3 .sort (reverse=True)\n",
    "\n",
    "\n",
    "\n",
    "\n",
    "\n",
    "\n",
    "\n",
    "\n"
   ]
  },
  {
   "attachments": {},
   "cell_type": "markdown",
   "metadata": {
    "id": "ntgVqLZhcIBJ"
   },
   "source": [
    "\n",
    "\n",
    "---\n",
    "\n"
   ]
  }
 ],
 "metadata": {
  "interpreter": {
   "hash": "8560ba40f25f8debc3b21cfdc72602d7855270eb253b25380125fbd9b6cd3418"
  },
  "kernelspec": {
   "display_name": "Python 3 (ipykernel)",
   "language": "python",
   "name": "python3"
  },
  "language_info": {
   "codemirror_mode": {
    "name": "ipython",
    "version": 3
   },
   "file_extension": ".py",
   "mimetype": "text/x-python",
   "name": "python",
   "nbconvert_exporter": "python",
   "pygments_lexer": "ipython3",
   "version": "3.9.7"
  },
  "toc": {
   "base_numbering": 1,
   "nav_menu": {},
   "number_sections": true,
   "sideBar": true,
   "skip_h1_title": false,
   "title_cell": "Table of Contents",
   "title_sidebar": "Contents",
   "toc_cell": true,
   "toc_position": {},
   "toc_section_display": true,
   "toc_window_display": true
  }
 },
 "nbformat": 4,
 "nbformat_minor": 2
}
