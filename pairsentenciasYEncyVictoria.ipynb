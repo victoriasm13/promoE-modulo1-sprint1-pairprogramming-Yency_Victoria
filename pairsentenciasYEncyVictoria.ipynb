{
 "cells": [
  {
   "cell_type": "code",
   "execution_count": 45,
   "metadata": {},
   "outputs": [
    {
     "data": {
      "text/plain": [
       "['Taiwan', 'Japan', 'Russia', 'Canada', 'Bulgaria']"
      ]
     },
     "execution_count": 45,
     "metadata": {},
     "output_type": "execute_result"
    }
   ],
   "source": [
    "tree = {\"Taiwan\": 69593,\n",
    "        \"Japan\": 49894, \n",
    "        \"Russia\": 41396, \n",
    "        \"Canada\": 36388, \n",
    "        \"Bulgaria\": 24987}\n",
    "masarboles = []\n",
    "ciudades = list(tree.keys())\n",
    "ciudades"
   ]
  },
  {
   "cell_type": "code",
   "execution_count": 46,
   "metadata": {},
   "outputs": [
    {
     "name": "stdout",
     "output_type": "stream",
     "text": [
      "['Taiwan', 'Japan', 'Russia']\n"
     ]
    }
   ],
   "source": [
    "i = 0\n",
    "while i < len(ciudades):\n",
    "    if tree.get(ciudades[i]) > 40000:\n",
    "        masarboles.append(ciudades[i])\n",
    "        \n",
    "    i += 1\n",
    "print(masarboles)"
   ]
  },
  {
   "cell_type": "code",
   "execution_count": 14,
   "metadata": {},
   "outputs": [],
   "source": [
    "nombre = input('Introduzca su nombre')\n",
    "gen = input ('Introduzca su género F o M')"
   ]
  },
  {
   "cell_type": "code",
   "execution_count": 15,
   "metadata": {},
   "outputs": [
    {
     "name": "stdout",
     "output_type": "stream",
     "text": [
      "Pertenece al grupo A\n"
     ]
    }
   ],
   "source": [
    "if gen == 'F':\n",
    "    if nombre[0] <= 'M':\n",
    "        print('Pertenece al grupo A')\n",
    "    else:\n",
    "        print('Pertenece al grupo B')\n",
    "else:\n",
    "    if nombre[0] >= 'N':\n",
    "        print('Pertenece al grupo A')\n",
    "    else:\n",
    "        print('Pertenece al grupo B')"
   ]
  },
  {
   "cell_type": "code",
   "execution_count": 16,
   "metadata": {},
   "outputs": [
    {
     "name": "stdout",
     "output_type": "stream",
     "text": [
      "0\n",
      "1\n",
      "2\n"
     ]
    }
   ],
   "source": [
    "z = 0\n",
    "l_aux = []\n",
    "while z< 3:\n",
    "    if z == 0:\n",
    "        print(z)\n",
    "        l_aux.append(z)\n",
    "        z += 1\n",
    "    elif z == 1:\n",
    "        print(z)\n",
    "        l_aux.append(z)\n",
    "        z += 1\n",
    "    else:\n",
    "        print(z)\n",
    "        z += 1 \n",
    "\n"
   ]
  },
  {
   "cell_type": "code",
   "execution_count": 17,
   "metadata": {},
   "outputs": [
    {
     "name": "stdout",
     "output_type": "stream",
     "text": [
      "[0]\n",
      "[0, 1]\n",
      "[0, 1, 2]\n",
      "[0, 1, 2, 3]\n"
     ]
    }
   ],
   "source": [
    "lista_empty = []\n",
    "gepard = 0\n",
    "while len(lista_empty) < 4:\n",
    "    lista_empty.append(gepard)\n",
    "    gepard += 1\n",
    "    print(lista_empty)"
   ]
  },
  {
   "cell_type": "code",
   "execution_count": 18,
   "metadata": {},
   "outputs": [
    {
     "name": "stdout",
     "output_type": "stream",
     "text": [
      "115\n"
     ]
    }
   ],
   "source": [
    "i = 0\n",
    "lista_num = [23,45,12,10,25]\n",
    "suma = 0\n",
    "while i < len(lista_num):\n",
    "    suma += lista_num[i]\n",
    "    i += 1\n",
    "\n",
    "print(suma)\n",
    "    "
   ]
  },
  {
   "cell_type": "code",
   "execution_count": 21,
   "metadata": {},
   "outputs": [],
   "source": [
    "edadc = int(input('Introduzca la edad del cliente'))"
   ]
  },
  {
   "cell_type": "code",
   "execution_count": 22,
   "metadata": {},
   "outputs": [
    {
     "name": "stdout",
     "output_type": "stream",
     "text": [
      "La entrada cuesta 5 €\n"
     ]
    }
   ],
   "source": [
    "if edadc < 4:\n",
    "    print('La entrada es gratuita')\n",
    "elif edadc < 18 and edadc >= 4: \n",
    "    print('La entrada cuesta 5 €')\n",
    "else:\n",
    "    print('La entrada cuesta 10 €')"
   ]
  },
  {
   "cell_type": "code",
   "execution_count": 30,
   "metadata": {},
   "outputs": [
    {
     "data": {
      "text/plain": [
       "'no'"
      ]
     },
     "execution_count": 30,
     "metadata": {},
     "output_type": "execute_result"
    }
   ],
   "source": [
    "#Ejercicio 10\n",
    "vegan = input('Elegir si desea pizza vegetariana.')\n",
    "vegan"
   ]
  },
  {
   "cell_type": "code",
   "execution_count": 31,
   "metadata": {},
   "outputs": [
    {
     "name": "stdout",
     "output_type": "stream",
     "text": [
      "La pizza elegida no es vegana y lleva tomate, mozarella vegana y salmón\n"
     ]
    }
   ],
   "source": [
    "if vegan == 'si': \n",
    "    ingv = input('Los ingredientes a elegir son tofu y pimiento')\n",
    "    print(f'La pizza elegida es vegana y lleva tomate, mozarella vegana y {ingv}')\n",
    "else:\n",
    "    ing = input('Los ingredientes a elegir son peperoni, jamón y salmón')\n",
    "    print(f'La pizza elegida no es vegana y lleva tomate, mozarella y {ing}')"
   ]
  }
 ],
 "metadata": {
  "kernelspec": {
   "display_name": "base",
   "language": "python",
   "name": "python3"
  },
  "language_info": {
   "codemirror_mode": {
    "name": "ipython",
    "version": 3
   },
   "file_extension": ".py",
   "mimetype": "text/x-python",
   "name": "python",
   "nbconvert_exporter": "python",
   "pygments_lexer": "ipython3",
   "version": "3.9.7"
  },
  "orig_nbformat": 4
 },
 "nbformat": 4,
 "nbformat_minor": 2
}
