{
 "cells": [
  {
   "cell_type": "code",
   "execution_count": 2,
   "metadata": {},
   "outputs": [],
   "source": [
    "numero1 = 4\n",
    "numero2 = 6\n",
    "numero3 = 7"
   ]
  },
  {
   "cell_type": "code",
   "execution_count": 7,
   "metadata": {},
   "outputs": [
    {
     "name": "stdout",
     "output_type": "stream",
     "text": [
      "False\n",
      "False\n",
      "False\n",
      "True\n"
     ]
    }
   ],
   "source": [
    "print(numero1 >= numero2)\n",
    "print(numero3 <= numero1 <= numero2)\n",
    "print(numero3 == numero2)\n",
    "print(numero2 != numero1)"
   ]
  },
  {
   "cell_type": "code",
   "execution_count": 8,
   "metadata": {},
   "outputs": [],
   "source": [
    "altura1 = 7.0\n",
    "altura2 = 4.0"
   ]
  },
  {
   "cell_type": "code",
   "execution_count": 9,
   "metadata": {},
   "outputs": [
    {
     "name": "stdout",
     "output_type": "stream",
     "text": [
      "11.0\n",
      "1.75\n",
      "3.0\n",
      "1.8\n"
     ]
    }
   ],
   "source": [
    "print(altura1 + altura2)\n",
    "print(altura1 / altura2)\n",
    "print(altura1 % altura2)\n",
    "print(round(altura1/altura2,1))\n"
   ]
  },
  {
   "cell_type": "code",
   "execution_count": 5,
   "metadata": {},
   "outputs": [
    {
     "name": "stdout",
     "output_type": "stream",
     "text": [
      "Introduzca su nombre y apellidos\n",
      "LESSA MEWRILAH\n",
      "lessa mewrilah\n",
      "Lessa Mewrilah\n",
      "Lessa mewrilah\n"
     ]
    }
   ],
   "source": [
    "print(\"Introduzca su nombre y apellidos\")\n",
    "nombreap = input()\n",
    "print(nombreap.upper())\n",
    "print(nombreap.lower())\n",
    "print(nombreap.title())\n",
    "print(nombreap.capitalize())"
   ]
  },
  {
   "cell_type": "code",
   "execution_count": 13,
   "metadata": {},
   "outputs": [
    {
     "name": "stdout",
     "output_type": "stream",
     "text": [
      "Resume tu personaje en un concepto\n",
      "PrincEsa dE los marEs dEl sur\n"
     ]
    }
   ],
   "source": [
    "print('Resume tu personaje en un concepto')\n",
    "pjconcept = input()\n",
    "vocal1 = input()\n",
    "pjconceptoMas = pjconcept.replace(vocal1,vocal1.upper())\n",
    "print(pjconceptoMas)"
   ]
  },
  {
   "cell_type": "code",
   "execution_count": 9,
   "metadata": {},
   "outputs": [
    {
     "name": "stdout",
     "output_type": "stream",
     "text": [
      "['tomate', 'jamon', 'aguacte']\n",
      "tomate\n",
      "jamon\n",
      "aguacte\n"
     ]
    }
   ],
   "source": [
    "lista_compra=input()\n",
    "lista_c = lista_compra.split()\n",
    "print(lista_c)\n",
    "string_listac = \"\\n\".join(lista_c)\n",
    "print(string_listac)"
   ]
  }
 ],
 "metadata": {
  "kernelspec": {
   "display_name": "base",
   "language": "python",
   "name": "python3"
  },
  "language_info": {
   "codemirror_mode": {
    "name": "ipython",
    "version": 3
   },
   "file_extension": ".py",
   "mimetype": "text/x-python",
   "name": "python",
   "nbconvert_exporter": "python",
   "pygments_lexer": "ipython3",
   "version": "3.9.7"
  },
  "orig_nbformat": 4
 },
 "nbformat": 4,
 "nbformat_minor": 2
}
