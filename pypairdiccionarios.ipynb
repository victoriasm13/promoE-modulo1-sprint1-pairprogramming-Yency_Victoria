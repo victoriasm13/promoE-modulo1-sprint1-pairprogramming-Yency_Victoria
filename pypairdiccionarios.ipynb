{
 "cells": [
  {
   "cell_type": "code",
   "execution_count": 5,
   "metadata": {},
   "outputs": [],
   "source": [
    "nombre1 = input('escribe tu nombre')\n",
    "nombre2 = input('escribe tu nombre')\n",
    "nombre3 = input('escribe tu nombre')\n",
    "\n"
   ]
  },
  {
   "cell_type": "code",
   "execution_count": 7,
   "metadata": {},
   "outputs": [
    {
     "name": "stdout",
     "output_type": "stream",
     "text": [
      "['Ana', 'Victoria', 'Catalina']\n"
     ]
    }
   ],
   "source": [
    "Nombres = [nombre1, nombre2, nombre3]\n",
    "\n",
    "print(Nombres)"
   ]
  },
  {
   "cell_type": "code",
   "execution_count": 8,
   "metadata": {},
   "outputs": [],
   "source": [
    "apellido1 = input('escribe tu apellido')\n",
    "apellido2 = input('escribe tu apellido')\n",
    "apellido3 = input('escribe tu apellido')"
   ]
  },
  {
   "cell_type": "code",
   "execution_count": 10,
   "metadata": {},
   "outputs": [],
   "source": [
    "edad1 = input('escribe tu edad')\n",
    "edad2 = input('escribe tu edad')\n",
    "edad3 = input('escribe tu edad')"
   ]
  },
  {
   "cell_type": "code",
   "execution_count": 11,
   "metadata": {},
   "outputs": [],
   "source": [
    "hijos1 = input('número de hijos')\n",
    "hijos2 = input('número de hijos')\n",
    "hijos3 = input('número de hijos')"
   ]
  },
  {
   "cell_type": "code",
   "execution_count": 13,
   "metadata": {},
   "outputs": [
    {
     "name": "stdout",
     "output_type": "stream",
     "text": [
      "{'nombres': ['Ana', 'Victoria', 'Catalina'], 'apellidos': ['Sánchez', 'Martinez', 'Reyes'], 'edad': ['25', '38', '41'], 'hijos': ['0', '2', '1']}\n"
     ]
    }
   ],
   "source": [
    "Adalabers = {'nombres': [nombre1,nombre2,nombre3], 'apellidos': [apellido1,apellido2,apellido3], \n",
    "             'edad': [edad1, edad2,edad3], 'hijos': [hijos1, hijos2, hijos3]}\n",
    "print (Adalabers)"
   ]
  },
  {
   "cell_type": "code",
   "execution_count": 16,
   "metadata": {},
   "outputs": [
    {
     "data": {
      "text/plain": [
       "'numero de hermanos'"
      ]
     },
     "execution_count": 16,
     "metadata": {},
     "output_type": "execute_result"
    }
   ],
   "source": [
    "Adalabers.setdefault('hermanos','número de hermanos')"
   ]
  },
  {
   "cell_type": "code",
   "execution_count": 17,
   "metadata": {},
   "outputs": [
    {
     "name": "stdout",
     "output_type": "stream",
     "text": [
      "dict_keys(['nombres', 'apellidos', 'edad', 'hijos', 'hermanos'])\n"
     ]
    }
   ],
   "source": [
    "print(Adalabers.keys())"
   ]
  },
  {
   "cell_type": "code",
   "execution_count": 18,
   "metadata": {},
   "outputs": [
    {
     "name": "stdout",
     "output_type": "stream",
     "text": [
      "dict_values([['Ana', 'Victoria', 'Catalina'], ['Sánchez', 'Martinez', 'Reyes'], ['25', '38', '41'], ['0', '2', '1'], 'numero de hermanos'])\n"
     ]
    }
   ],
   "source": [
    "print (Adalabers.values())"
   ]
  },
  {
   "cell_type": "code",
   "execution_count": 25,
   "metadata": {},
   "outputs": [
    {
     "name": "stdout",
     "output_type": "stream",
     "text": [
      "['Ana', 'Victoria', 'Catalina']\n",
      "['Ana', 'Victoria', 'Catalina']\n"
     ]
    },
    {
     "data": {
      "text/plain": [
       "'desconocida'"
      ]
     },
     "execution_count": 25,
     "metadata": {},
     "output_type": "execute_result"
    }
   ],
   "source": [
    "print (Adalabers.get('nombres'))\n",
    "print (Adalabers['nombres'])\n",
    "Adalabers.get('nacionalidad', 'ese valor no existe')\n",
    "Adalabers.setdefault('nacionalidad','desconocida')\n"
   ]
  },
  {
   "cell_type": "code",
   "execution_count": 26,
   "metadata": {},
   "outputs": [
    {
     "data": {
      "text/plain": [
       "[('apellidos', ['Sánchez', 'Martinez', 'Reyes']),\n",
       " ('edad', ['25', '38', '41']),\n",
       " ('hermanos', 'numero de hermanos'),\n",
       " ('hijos', ['0', '2', '1']),\n",
       " ('nacionalidad', 'desconocida'),\n",
       " ('nombres', ['Ana', 'Victoria', 'Catalina'])]"
      ]
     },
     "execution_count": 26,
     "metadata": {},
     "output_type": "execute_result"
    }
   ],
   "source": [
    "sorted(Adalabers.items())"
   ]
  },
  {
   "cell_type": "code",
   "execution_count": 1,
   "metadata": {},
   "outputs": [
    {
     "ename": "NameError",
     "evalue": "name 'Adalabers' is not defined",
     "output_type": "error",
     "traceback": [
      "\u001b[0;31m---------------------------------------------------------------------------\u001b[0m",
      "\u001b[0;31mNameError\u001b[0m                                 Traceback (most recent call last)",
      "\u001b[0;32m/tmp/ipykernel_51022/2596991483.py\u001b[0m in \u001b[0;36m<module>\u001b[0;34m\u001b[0m\n\u001b[0;32m----> 1\u001b[0;31m \u001b[0mAdalabers\u001b[0m\u001b[0;34m\u001b[0m\u001b[0;34m\u001b[0m\u001b[0m\n\u001b[0m",
      "\u001b[0;31mNameError\u001b[0m: name 'Adalabers' is not defined"
     ]
    }
   ],
   "source": [
    "# falta este ultimo ejercicio  Adalabers"
   ]
  }
 ],
 "metadata": {
  "kernelspec": {
   "display_name": "base",
   "language": "python",
   "name": "python3"
  },
  "language_info": {
   "codemirror_mode": {
    "name": "ipython",
    "version": 3
   },
   "file_extension": ".py",
   "mimetype": "text/x-python",
   "name": "python",
   "nbconvert_exporter": "python",
   "pygments_lexer": "ipython3",
   "version": "3.9.7"
  },
  "orig_nbformat": 4
 },
 "nbformat": 4,
 "nbformat_minor": 2
}
