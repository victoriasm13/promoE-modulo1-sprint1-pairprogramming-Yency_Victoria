{
 "cells": [
  {
   "cell_type": "code",
   "execution_count": 33,
   "metadata": {},
   "outputs": [
    {
     "ename": "SyntaxError",
     "evalue": "invalid syntax (4125900720.py, line 5)",
     "output_type": "error",
     "traceback": [
      "\u001b[0;36m  File \u001b[0;32m\"/tmp/ipykernel_25400/4125900720.py\"\u001b[0;36m, line \u001b[0;32m5\u001b[0m\n\u001b[0;31m    duracion = [1:años:1]\u001b[0m\n\u001b[0m                 ^\u001b[0m\n\u001b[0;31mSyntaxError\u001b[0m\u001b[0;31m:\u001b[0m invalid syntax\n"
     ]
    }
   ],
   "source": [
    "#Ejercicio 1\n",
    "dinero =  int(input('Introducir el capital a invertir'))\n",
    "interes = int(input('Introducir el interes de la cuenta'))\n",
    "años = int(input('Introducir el numero de años'))"
   ]
  },
  {
   "cell_type": "code",
   "execution_count": 34,
   "metadata": {},
   "outputs": [
    {
     "name": "stdout",
     "output_type": "stream",
     "text": [
      "El rendimiento del año 0 ha sido 347.78222229\n",
      "El rendimiento del año 1 ha sido 358.2156889587\n",
      "El rendimiento del año 2 ha sido 368.962159627461\n",
      "El rendimiento del año 3 ha sido 380.0310244162848\n",
      "El rendimiento del año 4 ha sido 391.4319551487734\n",
      "El rendimiento del año 5 ha sido 403.17491380323656\n"
     ]
    }
   ],
   "source": [
    "for i in range(años+1):\n",
    "    inversion = (dinero/100)*interes\n",
    "    print(f'El rendimiento del año {i} ha sido {inversion}')\n",
    "    dinero += inversion\n"
   ]
  },
  {
   "cell_type": "code",
   "execution_count": 5,
   "metadata": {},
   "outputs": [
    {
     "name": "stdout",
     "output_type": "stream",
     "text": [
      "Quiero casarme con Aymeric\n",
      "a\n"
     ]
    }
   ],
   "source": [
    "#ejercicio 2\n",
    "letra = input('Introduzca una letra')\n",
    "frase = input('Introduzca una frase')\n",
    "suma = 0\n",
    "print(frase)\n",
    "print(letra)"
   ]
  },
  {
   "cell_type": "code",
   "execution_count": 6,
   "metadata": {},
   "outputs": [
    {
     "name": "stdout",
     "output_type": "stream",
     "text": [
      "La cantidad de veces que a aparece es igual a 2\n"
     ]
    }
   ],
   "source": [
    "for i in frase:\n",
    "    if i == letra:\n",
    "        suma += 1\n",
    "\n",
    "print(f'La cantidad de veces que {letra} aparece es igual a {suma}')\n"
   ]
  },
  {
   "cell_type": "code",
   "execution_count": 10,
   "metadata": {},
   "outputs": [
    {
     "name": "stdout",
     "output_type": "stream",
     "text": [
      "0 por 2 es igual a 0\n",
      "---------------------------------\n",
      "1 por 2 es igual a 2\n",
      "---------------------------------\n",
      "2 por 2 es igual a 4\n",
      "---------------------------------\n",
      "3 por 2 es igual a 6\n",
      "---------------------------------\n",
      "4 por 2 es igual a 8\n",
      "---------------------------------\n",
      "5 por 2 es igual a 10\n",
      "---------------------------------\n",
      "6 por 2 es igual a 12\n",
      "---------------------------------\n",
      "7 por 2 es igual a 14\n",
      "---------------------------------\n",
      "8 por 2 es igual a 16\n",
      "---------------------------------\n",
      "9 por 2 es igual a 18\n",
      "---------------------------------\n",
      "10 por 2 es igual a 20\n",
      "---------------------------------\n"
     ]
    }
   ],
   "source": [
    "#Ejercicio 3\n",
    "num = int(input('Introducir un número'))\n",
    "for i in range(11): \n",
    "    print(f'{i} por {num} es igual a', i*num)\n",
    "    print('---------------------------------')"
   ]
  },
  {
   "cell_type": "code",
   "execution_count": 16,
   "metadata": {},
   "outputs": [],
   "source": [
    "#Ejercicio 4\n",
    "numbers = [12, 75, 150, 180, 145, 525, 50]\n",
    "lista_numb = []"
   ]
  },
  {
   "cell_type": "code",
   "execution_count": 17,
   "metadata": {},
   "outputs": [
    {
     "name": "stdout",
     "output_type": "stream",
     "text": [
      "Numero invalido, pasar al siguiente\n",
      "[75, 150, 145]\n"
     ]
    }
   ],
   "source": [
    "for num in numbers: \n",
    "    if  num > 500:\n",
    "        break\n",
    "    elif num > 150:\n",
    "        print('Numero invalido, pasar al siguiente')\n",
    "        continue\n",
    "    elif num % 5 == 0:\n",
    "        lista_numb.append(num)\n",
    "        \n",
    "print(lista_numb)"
   ]
  },
  {
   "cell_type": "code",
   "execution_count": 25,
   "metadata": {},
   "outputs": [],
   "source": [
    "#Ejercicio 5\n",
    "list1 = [10, 20, 30, 40, 50]\n",
    "list3 = []\n",
    "i = -1"
   ]
  },
  {
   "cell_type": "code",
   "execution_count": 26,
   "metadata": {},
   "outputs": [
    {
     "name": "stdout",
     "output_type": "stream",
     "text": [
      "[50, 40, 30, 20, 10]\n"
     ]
    }
   ],
   "source": [
    "for numb in list1:\n",
    "    list3.append(list1[i])\n",
    "    i -= 1\n",
    "print(list3)"
   ]
  },
  {
   "cell_type": "code",
   "execution_count": 27,
   "metadata": {},
   "outputs": [
    {
     "name": "stdout",
     "output_type": "stream",
     "text": [
      "1\n",
      "4\n",
      "9\n"
     ]
    }
   ],
   "source": [
    "#Ejercicio 6\n",
    "for i in ['1','2','3']:\n",
    "    try:\n",
    "        print (i**2)\n",
    "    except: \n",
    "        n = int(i)\n",
    "        print( n**2)"
   ]
  }
 ],
 "metadata": {
  "kernelspec": {
   "display_name": "base",
   "language": "python",
   "name": "python3"
  },
  "language_info": {
   "codemirror_mode": {
    "name": "ipython",
    "version": 3
   },
   "file_extension": ".py",
   "mimetype": "text/x-python",
   "name": "python",
   "nbconvert_exporter": "python",
   "pygments_lexer": "ipython3",
   "version": "3.9.7"
  },
  "orig_nbformat": 4
 },
 "nbformat": 4,
 "nbformat_minor": 2
}
