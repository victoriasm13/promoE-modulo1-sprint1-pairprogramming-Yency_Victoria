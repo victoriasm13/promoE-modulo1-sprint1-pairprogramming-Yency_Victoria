{
 "cells": [
  {
   "cell_type": "code",
   "execution_count": 2,
   "metadata": {},
   "outputs": [],
   "source": [
    "nombres = [\"Laura\", \"Lorena\", \"Lupe\", \"Loreto\", \"Lucía\"]\n",
    "\n",
    "notas = [9, 8.5, 9.8, 8.9, 9.2]"
   ]
  },
  {
   "cell_type": "code",
   "execution_count": null,
   "metadata": {},
   "outputs": [],
   "source": []
  },
  {
   "cell_type": "code",
   "execution_count": 3,
   "metadata": {},
   "outputs": [
    {
     "name": "stdout",
     "output_type": "stream",
     "text": [
      "La alumna que ha sacado la nota más alta es Lupe\n"
     ]
    }
   ],
   "source": [
    "print('La alumna que ha sacado la nota más alta es', nombres[notas.index(max(notas))])"
   ]
  },
  {
   "cell_type": "code",
   "execution_count": 4,
   "metadata": {},
   "outputs": [
    {
     "name": "stdout",
     "output_type": "stream",
     "text": [
      "La alumna que ha sacado la nota más baja es Lorena\n"
     ]
    }
   ],
   "source": [
    "print('La alumna que ha sacado la nota más baja es', nombres[notas.index(min(notas))])\n"
   ]
  },
  {
   "cell_type": "code",
   "execution_count": 5,
   "metadata": {},
   "outputs": [
    {
     "name": "stdout",
     "output_type": "stream",
     "text": [
      "[9.8, 9.2, 9, 8.9, 8.5]\n",
      "['Lupe', 'Lucía', 'Loreto', 'Lorena', 'Laura']\n"
     ]
    }
   ],
   "source": [
    "notas_nuevo_orden = sorted(notas)\n",
    "notas_nuevo_orden.sort(reverse=True)\n",
    "print(notas_nuevo_orden)\n",
    "nombres.sort(reverse=True)\n",
    "print(nombres)\n",
    "notas.clear()"
   ]
  },
  {
   "cell_type": "code",
   "execution_count": 6,
   "metadata": {},
   "outputs": [],
   "source": [
    "lunes = [34,56,82]\n",
    "martes = [99, 64, 24]\n",
    "miercoles = [12, 59, 71]\n",
    "\n",
    "midweek = lunes\n",
    "midweek1 =lunes"
   ]
  },
  {
   "cell_type": "code",
   "execution_count": 7,
   "metadata": {},
   "outputs": [
    {
     "name": "stdout",
     "output_type": "stream",
     "text": [
      "[34, 56, 82, 99, 64, 24, 12, 59, 71]\n"
     ]
    }
   ],
   "source": [
    "midweek1.extend(martes)\n",
    "midweek1.extend(miercoles)\n",
    "print(midweek1)"
   ]
  },
  {
   "cell_type": "code",
   "execution_count": 8,
   "metadata": {},
   "outputs": [
    {
     "name": "stdout",
     "output_type": "stream",
     "text": [
      "[34, 56, 82, 99, 64, 24, 12, 59, 71, [99, 64, 24], [12, 59, 71]]\n"
     ]
    }
   ],
   "source": [
    "midweek.append(martes)\n",
    "midweek.append(miercoles)\n",
    "print(midweek)\n"
   ]
  },
  {
   "cell_type": "code",
   "execution_count": null,
   "metadata": {},
   "outputs": [],
   "source": []
  }
 ],
 "metadata": {
  "kernelspec": {
   "display_name": "base",
   "language": "python",
   "name": "python3"
  },
  "language_info": {
   "codemirror_mode": {
    "name": "ipython",
    "version": 3
   },
   "file_extension": ".py",
   "mimetype": "text/x-python",
   "name": "python",
   "nbconvert_exporter": "python",
   "pygments_lexer": "ipython3",
   "version": "3.9.7"
  },
  "orig_nbformat": 4
 },
 "nbformat": 4,
 "nbformat_minor": 2
}
